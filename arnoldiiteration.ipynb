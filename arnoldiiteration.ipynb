{
  "nbformat": 4,
  "nbformat_minor": 0,
  "metadata": {
    "colab": {
      "provenance": [],
      "authorship_tag": "ABX9TyNflXVfsDfq151jxwPZk0kX",
      "include_colab_link": true
    },
    "kernelspec": {
      "name": "python3",
      "display_name": "Python 3"
    },
    "language_info": {
      "name": "python"
    }
  },
  "cells": [
    {
      "cell_type": "markdown",
      "metadata": {
        "id": "view-in-github",
        "colab_type": "text"
      },
      "source": [
        "<a href=\"https://colab.research.google.com/github/Quntized/Image-Compression-/blob/main/arnoldiiteration.ipynb\" target=\"_parent\"><img src=\"https://colab.research.google.com/assets/colab-badge.svg\" alt=\"Open In Colab\"/></a>"
      ]
    },
    {
      "cell_type": "code",
      "execution_count": 2,
      "metadata": {
        "id": "l8B9zAXF-Oq8"
      },
      "outputs": [],
      "source": [
        "import numpy as np\n",
        "import matplotlib.pyplot as plt\n",
        "from numpy import linalg as LA\n",
        "from numpy.linalg import inv"
      ]
    },
    {
      "cell_type": "code",
      "source": [
        "def arnoldi_iteration(A,b,n:int):\n",
        "  \"\"\"computes a basis of the (n+1) -krylov subspace of A : the space spanned by (b,Ab,...,A^n b)\n",
        "\n",
        "  Arguments :\n",
        "    A :m by m array\n",
        "    b: initial vector(length m)\n",
        "    n : dimension of krylov subspace . Must be >=1\n",
        "\n",
        "\n",
        "  Returns\n",
        "    Q : m by (n+1) array , the columns are orthonormal basis of the krylov subspace\n",
        "    h : (n+1) by n array , A on basis Q. It is upper hessenberg.\"\"\"\n",
        "  print(\"A = \",A)\n",
        "  m = A.shape[0]\n",
        "  h = np.zeros((n+1,n))\n",
        "  Q = np.zeros((m,n+1))\n",
        "  q = b/np.linalg.norm(b)\n",
        "  print(\"q = \",q)\n",
        "  Q[:,0] = q.transpose()\n",
        "  print(\"Q = \", Q)\n",
        "\n",
        "  for k in range(n):\n",
        "    print('------------------------------')\n",
        "    print('k = ',k)\n",
        "    qkp1 = np.dot(A,q)\n",
        "    print(\"qkp1 = \",qkp1)\n",
        "    for j in range(k+1):      #subtract the projection on previous vectors\n",
        "      h[j,k] = np.dot(Q[:,j].conj(),qkp1)\n",
        "      print(\"h[j,k] = \",h[j,k])\n",
        "      print(\"Q[:,j]\",Q[:,j])\n",
        "      temp = qkp1.transpose() - h[j,k]*Q[:,j]\n",
        "      qkp1 = temp.transpose()\n",
        "      print(\"v = \",qkp1)\n",
        "    h[k+1,k] = np.linalg.norm(qkp1)\n",
        "    eps = 1e-12 #If v is shorter than this threshold , it is the zero vector\n",
        "    if h[k+1,k]>eps:  # add the produced vector to the list unless the zero vector is produced.\n",
        "      q = qkp1/h[k+1,k]\n",
        "      print('q = ',q)\n",
        "      Q[:,k+1]= q.transpose()\n",
        "    else: # If that happens stop iterating\n",
        "      return Q,h\n",
        "  return Q,h\n",
        "\n",
        "\n",
        "A = np.array([[1,2,3,4],[5,6,7,8],[9,10,11,12],[13,14,15,16]])\n",
        "b = np.array([[1],[3],[6],[8]])\n",
        "Q,h = arnoldi_iteration(A,b,3)\n",
        "print(\"Q = \",Q)\n",
        "print(\"h = \",h)"
      ],
      "metadata": {
        "id": "GquYwnsN-vSf",
        "colab": {
          "base_uri": "https://localhost:8080/"
        },
        "outputId": "67909298-c5d9-433e-8880-d3554b3d4323"
      },
      "execution_count": 4,
      "outputs": [
        {
          "output_type": "stream",
          "name": "stdout",
          "text": [
            "A =  [[ 1  2  3  4]\n",
            " [ 5  6  7  8]\n",
            " [ 9 10 11 12]\n",
            " [13 14 15 16]]\n",
            "q =  [[0.09534626]\n",
            " [0.28603878]\n",
            " [0.57207755]\n",
            " [0.76277007]]\n",
            "Q =  [[0.09534626 0.         0.         0.        ]\n",
            " [0.28603878 0.         0.         0.        ]\n",
            " [0.57207755 0.         0.         0.        ]\n",
            " [0.76277007 0.         0.         0.        ]]\n",
            "------------------------------\n",
            "k =  0\n",
            "qkp1 =  [[ 5.43473676]\n",
            " [12.2996674 ]\n",
            " [19.16459804]\n",
            " [26.02952869]]\n",
            "h[j,k] =  34.85454545454546\n",
            "Q[:,j] [0.09534626 0.28603878 0.57207755 0.76277007]\n",
            "v =  [[ 2.11148624]\n",
            " [ 2.32991585]\n",
            " [-0.77490505]\n",
            " [-0.55647544]]\n",
            "q =  [[ 0.64259332]\n",
            " [ 0.70906849]\n",
            " [-0.23582858]\n",
            " [-0.16935341]]\n",
            "------------------------------\n",
            "k =  1\n",
            "qkp1 =  [[ 0.67583091]\n",
            " [ 4.46175017]\n",
            " [ 8.24766944]\n",
            " [12.03358871]]\n",
            "h[j,k] =  15.237839384575778\n",
            "Q[:,j] [0.09534626 0.28603878 0.57207755 0.76277007]\n",
            "v =  [[-0.77704007]\n",
            " [ 0.10313724]\n",
            " [-0.46955644]\n",
            " [ 0.41062087]]\n",
            "h[j,k] =  -0.38499461409354374\n",
            "Q[:,j] [ 0.64259332  0.70906849 -0.23582858 -0.16935341]\n",
            "v =  [[-0.52964511]\n",
            " [ 0.37612479]\n",
            " [-0.56034917]\n",
            " [ 0.34542072]]\n",
            "q =  [[-0.57269793]\n",
            " [ 0.40669853]\n",
            " [-0.60589781]\n",
            " [ 0.37349865]]\n",
            "------------------------------\n",
            "k =  2\n",
            "qkp1 =  [[-0.0829997 ]\n",
            " [-1.67659393]\n",
            " [-3.27018816]\n",
            " [-4.86378239]]\n",
            "h[j,k] =  -6.068233474532795\n",
            "Q[:,j] [0.09534626 0.28603878 0.57207755 0.76277007]\n",
            "v =  [[ 0.49558366]\n",
            " [ 0.05915615]\n",
            " [ 0.201312  ]\n",
            " [-0.23511551]]\n",
            "h[j,k] =  0.3527470025685129\n",
            "Q[:,j] [ 0.64259332  0.70906849 -0.23582858 -0.16935341]\n",
            "v =  [[ 0.26891079]\n",
            " [-0.19096564]\n",
            " [ 0.28449982]\n",
            " [-0.1753766 ]]\n",
            "h[j,k] =  -0.46955084045191464\n",
            "Q[:,j] [-0.57269793  0.40669853 -0.60589781  0.37349865]\n",
            "v =  [[-2.22044605e-16]\n",
            " [ 5.27355937e-16]\n",
            " [ 7.77156117e-16]\n",
            " [ 5.55111512e-17]]\n",
            "Q =  [[ 0.09534626  0.64259332 -0.57269793  0.        ]\n",
            " [ 0.28603878  0.70906849  0.40669853  0.        ]\n",
            " [ 0.57207755 -0.23582858 -0.60589781  0.        ]\n",
            " [ 0.76277007 -0.16935341  0.37349865  0.        ]]\n",
            "h =  [[ 3.48545455e+01  1.52378394e+01 -6.06823347e+00]\n",
            " [ 3.28588265e+00 -3.84994614e-01  3.52747003e-01]\n",
            " [ 0.00000000e+00  9.24824556e-01 -4.69550840e-01]\n",
            " [ 0.00000000e+00  0.00000000e+00  9.66675338e-16]]\n"
          ]
        },
        {
          "output_type": "stream",
          "name": "stderr",
          "text": [
            "<ipython-input-4-6d4572bb40b5>:28: DeprecationWarning: Conversion of an array with ndim > 0 to a scalar is deprecated, and will error in future. Ensure you extract a single element from your array before performing this operation. (Deprecated NumPy 1.25.)\n",
            "  h[j,k] = np.dot(Q[:,j].conj(),qkp1)\n"
          ]
        }
      ]
    },
    {
      "cell_type": "code",
      "source": [],
      "metadata": {
        "id": "UYoxPRdISaX3"
      },
      "execution_count": null,
      "outputs": []
    }
  ]
}