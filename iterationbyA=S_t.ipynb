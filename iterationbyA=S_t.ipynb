{
  "nbformat": 4,
  "nbformat_minor": 0,
  "metadata": {
    "colab": {
      "provenance": [],
      "authorship_tag": "ABX9TyNAwGe9ddzfxCud+W6MZrw4",
      "include_colab_link": true
    },
    "kernelspec": {
      "name": "python3",
      "display_name": "Python 3"
    },
    "language_info": {
      "name": "python"
    }
  },
  "cells": [
    {
      "cell_type": "markdown",
      "metadata": {
        "id": "view-in-github",
        "colab_type": "text"
      },
      "source": [
        "<a href=\"https://colab.research.google.com/github/Quntized/Image-Compression-/blob/main/iterationbyA%3DS_t.ipynb\" target=\"_parent\"><img src=\"https://colab.research.google.com/assets/colab-badge.svg\" alt=\"Open In Colab\"/></a>"
      ]
    },
    {
      "cell_type": "code",
      "execution_count": 1,
      "metadata": {
        "id": "gFIdFqJbWKkY"
      },
      "outputs": [],
      "source": [
        "import numpy as np\n",
        "from numpy import linalg as LA\n",
        "from numpy.linalg import inv\n",
        "import matplotlib.pyplot as plt\n",
        "import scipy\n",
        "import scipy.linalg"
      ]
    },
    {
      "cell_type": "code",
      "source": [
        "A = np.array([[-1,1],[1,1]])\n",
        "b = np.array([[3],[5]])\n",
        "T = np.array([[-1,1],[1,1]])\n",
        "S = A + T\n",
        "U = np.dot(inv(S),T)\n",
        "print(U)"
      ],
      "metadata": {
        "colab": {
          "base_uri": "https://localhost:8080/"
        },
        "id": "YoLOszhSWsiz",
        "outputId": "476e44e4-00fe-45b5-b031-8ab468623e1f"
      },
      "execution_count": 15,
      "outputs": [
        {
          "output_type": "stream",
          "name": "stdout",
          "text": [
            "[[0.5 0. ]\n",
            " [0.  0.5]]\n"
          ]
        }
      ]
    },
    {
      "cell_type": "code",
      "source": [
        "Unorm = LA.norm(U)\n",
        "print(Unorm)"
      ],
      "metadata": {
        "colab": {
          "base_uri": "https://localhost:8080/"
        },
        "id": "GsSwWYz0XH9v",
        "outputId": "2e0ad224-651c-4a42-f539-449ee99270b1"
      },
      "execution_count": 7,
      "outputs": [
        {
          "output_type": "stream",
          "name": "stdout",
          "text": [
            "0.7071067811865476\n"
          ]
        }
      ]
    },
    {
      "cell_type": "code",
      "source": [
        "xk = np.array([[1],[1]]) #our initial x0\n",
        "for i in range(1,25):\n",
        "  print(\"*****\")\n",
        "  #print(\"iteration \",i+1)\n",
        "  xt = xk\n",
        "  #print('xt',xt)\n",
        "  #print('inv s :' , inv(S))\n",
        "  L = np.dot(T,xt)+b\n",
        "  #print('T*xt+b = ',L)\n",
        "  xk = np.dot(inv(S),L)\n",
        "  #print('xk',xk)\n",
        "print('Ax = ',np.dot(A,xk))\n",
        "print(xk)"
      ],
      "metadata": {
        "colab": {
          "base_uri": "https://localhost:8080/"
        },
        "id": "Gtur_T7IXemS",
        "outputId": "15f359dd-249f-42cb-cebf-4df1b31a136e"
      },
      "execution_count": 16,
      "outputs": [
        {
          "output_type": "stream",
          "name": "stdout",
          "text": [
            "*****\n",
            "*****\n",
            "*****\n",
            "*****\n",
            "*****\n",
            "*****\n",
            "*****\n",
            "*****\n",
            "*****\n",
            "*****\n",
            "*****\n",
            "*****\n",
            "*****\n",
            "*****\n",
            "*****\n",
            "*****\n",
            "*****\n",
            "*****\n",
            "*****\n",
            "*****\n",
            "*****\n",
            "*****\n",
            "*****\n",
            "*****\n",
            "Ax =  [[2.99999982]\n",
            " [4.99999982]]\n",
            "[[1.        ]\n",
            " [3.99999982]]\n"
          ]
        }
      ]
    },
    {
      "cell_type": "code",
      "source": [],
      "metadata": {
        "id": "YTfsfORualDk"
      },
      "execution_count": null,
      "outputs": []
    }
  ]
}